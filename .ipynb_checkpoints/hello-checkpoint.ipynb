{
 "cells": [
  {
   "cell_type": "code",
   "execution_count": null,
   "metadata": {},
   "outputs": [],
   "source": []
  },
  {
   "cell_type": "markdown",
   "metadata": {},
   "source": [
    "\t1\t加载 Davis 数据集:\n",
    "\t◦\t从 Davis 数据集文件 (例如，davis.csv) 中读取药物-靶点相互作用数据。\n",
    "\t◦\t数据应包含以下列：Drug (药物 SMILES)、Target (蛋白质序列)、Affinity (亲和力 pKd 值)。"
   ]
  },
  {
   "cell_type": "code",
   "execution_count": null,
   "metadata": {},
   "outputs": [],
   "source": []
  }
 ],
 "metadata": {
  "language_info": {
   "name": "python"
  }
 },
 "nbformat": 4,
 "nbformat_minor": 2
}
